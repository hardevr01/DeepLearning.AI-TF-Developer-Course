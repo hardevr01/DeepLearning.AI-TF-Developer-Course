{
  "nbformat": 4,
  "nbformat_minor": 0,
  "metadata": {
    "accelerator": "GPU",
    "colab": {
      "name": "NLP Course - Week 3 Exercise Answer.ipynb",
      "provenance": [],
      "toc_visible": true
    },
    "kernelspec": {
      "display_name": "Python 3",
      "language": "python",
      "name": "python3"
    },
    "language_info": {
      "codemirror_mode": {
        "name": "ipython",
        "version": 3
      },
      "file_extension": ".py",
      "mimetype": "text/x-python",
      "name": "python",
      "nbconvert_exporter": "python",
      "pygments_lexer": "ipython3",
      "version": "3.7.6"
    }
  },
  "cells": [
    {
      "cell_type": "code",
      "metadata": {
        "id": "zX4Kg8DUTKWO"
      },
      "source": [
        "#@title Licensed under the Apache License, Version 2.0 (the \"License\");\n",
        "# you may not use this file except in compliance with the License.\n",
        "# You may obtain a copy of the License at\n",
        "#\n",
        "# https://www.apache.org/licenses/LICENSE-2.0\n",
        "#\n",
        "# Unless required by applicable law or agreed to in writing, software\n",
        "# distributed under the License is distributed on an \"AS IS\" BASIS,\n",
        "# WITHOUT WARRANTIES OR CONDITIONS OF ANY KIND, either express or implied.\n",
        "# See the License for the specific language governing permissions and\n",
        "# limitations under the License."
      ],
      "execution_count": null,
      "outputs": []
    },
    {
      "cell_type": "markdown",
      "metadata": {
        "id": "hzHdlowNk-ZY"
      },
      "source": [
        "<a href=\"https://colab.research.google.com/github/lmoroney/dlaicourse/blob/master/TensorFlow%20In%20Practice/Course%203%20-%20NLP/NLP%20Course%20-%20Week%203%20Exercise%20Answer.ipynb\" target=\"_parent\"><img src=\"https://colab.research.google.com/assets/colab-badge.svg\" alt=\"Open In Colab\"/></a>"
      ]
    },
    {
      "cell_type": "code",
      "metadata": {
        "id": "hmA6EzkQJ5jt"
      },
      "source": [
        "import json\n",
        "import tensorflow as tf\n",
        "import csv\n",
        "import random\n",
        "import numpy as np\n",
        "\n",
        "from tensorflow.keras.preprocessing.text import Tokenizer\n",
        "from tensorflow.keras.preprocessing.sequence import pad_sequences\n",
        "from tensorflow.keras.utils import to_categorical\n",
        "from tensorflow.keras import regularizers\n",
        "\n",
        "\n",
        "embedding_dim = 100\n",
        "max_length = 16\n",
        "trunc_type='post'\n",
        "padding_type='post'\n",
        "oov_tok = \"<OOV>\"\n",
        "training_size=160000\n",
        "test_portion=.1\n",
        "\n",
        "corpus = []\n"
      ],
      "execution_count": 1,
      "outputs": []
    },
    {
      "cell_type": "code",
      "metadata": {
        "colab": {
          "base_uri": "https://localhost:8080/"
        },
        "id": "bM0l_dORKqE0",
        "outputId": "5b7196a7-ed09-4bab-b1fe-e078c2db33e3"
      },
      "source": [
        "# Note that I cleaned the Stanford dataset to remove LATIN1 encoding to make it easier for Python CSV reader\n",
        "# You can do that yourself with:\n",
        "# iconv -f LATIN1 -t UTF8 training.1600000.processed.noemoticon.csv -o training_cleaned.csv\n",
        "# I then hosted it on my site to make it easier to use in this notebook\n",
        "\n",
        "!wget --no-check-certificate \\\n",
        "    https://storage.googleapis.com/laurencemoroney-blog.appspot.com/training_cleaned.csv \\\n",
        "    -O /tmp/training_cleaned.csv\n",
        "\n",
        "num_sentences = 0\n",
        "\n",
        "with open(\"/tmp/training_cleaned.csv\") as csvfile:\n",
        "    reader = csv.reader(csvfile, delimiter=',')\n",
        "    for row in reader:\n",
        "        list_item=[]\n",
        "        list_item.append(row[5])\n",
        "        this_label=row[0]\n",
        "        if this_label=='0':\n",
        "            list_item.append(0)\n",
        "        else:\n",
        "            list_item.append(1)\n",
        "        num_sentences = num_sentences + 1\n",
        "        corpus.append(list_item)\n"
      ],
      "execution_count": 2,
      "outputs": [
        {
          "output_type": "stream",
          "text": [
            "--2020-11-22 00:05:35--  https://storage.googleapis.com/laurencemoroney-blog.appspot.com/training_cleaned.csv\n",
            "Resolving storage.googleapis.com (storage.googleapis.com)... 172.217.12.240, 142.250.31.128, 172.217.164.176, ...\n",
            "Connecting to storage.googleapis.com (storage.googleapis.com)|172.217.12.240|:443... connected.\n",
            "HTTP request sent, awaiting response... 200 OK\n",
            "Length: 238942690 (228M) [application/octet-stream]\n",
            "Saving to: ‘/tmp/training_cleaned.csv’\n",
            "\n",
            "/tmp/training_clean 100%[===================>] 227.87M   100MB/s    in 2.3s    \n",
            "\n",
            "2020-11-22 00:05:37 (100 MB/s) - ‘/tmp/training_cleaned.csv’ saved [238942690/238942690]\n",
            "\n"
          ],
          "name": "stdout"
        }
      ]
    },
    {
      "cell_type": "code",
      "metadata": {
        "colab": {
          "base_uri": "https://localhost:8080/"
        },
        "id": "3kxblBUjEUX-",
        "outputId": "9ad87ab4-aa6e-4deb-cd8c-0b1cdb361832"
      },
      "source": [
        "print(num_sentences)\n",
        "print(len(corpus))\n",
        "print(corpus[1])\n",
        "\n",
        "# Expected Output:\n",
        "# 1600000\n",
        "# 1600000\n",
        "# [\"is upset that he can't update his Facebook by texting it... and might cry as a result  School today also. Blah!\", 0]"
      ],
      "execution_count": 3,
      "outputs": [
        {
          "output_type": "stream",
          "text": [
            "1600000\n",
            "1600000\n",
            "[\"is upset that he can't update his Facebook by texting it... and might cry as a result  School today also. Blah!\", 0]\n"
          ],
          "name": "stdout"
        }
      ]
    },
    {
      "cell_type": "code",
      "metadata": {
        "id": "ohOGz24lsNAD"
      },
      "source": [
        "sentences=[]\n",
        "labels=[]\n",
        "random.shuffle(corpus)\n",
        "for x in range(training_size):\n",
        "    sentences.append(corpus[x][0])\n",
        "    labels.append(corpus[x][1])\n",
        "\n",
        "\n",
        "tokenizer = Tokenizer()\n",
        "tokenizer.fit_on_texts(sentences)\n",
        "\n",
        "word_index = tokenizer.word_index\n",
        "vocab_size=len(word_index)\n",
        "\n",
        "sequences = tokenizer.texts_to_sequences(sentences)\n",
        "padded = pad_sequences(sequences, maxlen=max_length, padding=padding_type, truncating=trunc_type)\n",
        "\n",
        "split = int(test_portion * training_size)\n",
        "\n",
        "test_sequences = padded[0:split]\n",
        "training_sequences = padded[split:training_size]\n",
        "test_labels = labels[0:split]\n",
        "training_labels = labels[split:training_size]"
      ],
      "execution_count": 4,
      "outputs": []
    },
    {
      "cell_type": "code",
      "metadata": {
        "colab": {
          "base_uri": "https://localhost:8080/"
        },
        "id": "gIrtRem1En3N",
        "outputId": "0e1bfd3d-5f37-4569-a71b-673da616a12d"
      },
      "source": [
        "print(vocab_size)\n",
        "print(word_index['i'])\n",
        "# Expected Output\n",
        "# 138858\n",
        "# 1"
      ],
      "execution_count": 5,
      "outputs": [
        {
          "output_type": "stream",
          "text": [
            "138106\n",
            "1\n"
          ],
          "name": "stdout"
        }
      ]
    },
    {
      "cell_type": "code",
      "metadata": {
        "colab": {
          "base_uri": "https://localhost:8080/"
        },
        "id": "C1zdgJkusRh0",
        "outputId": "10cef365-8993-4222-fa5f-89f3900c0948"
      },
      "source": [
        "# Note this is the 100 dimension version of GloVe from Stanford\n",
        "# I unzipped and hosted it on my site to make this notebook easier\n",
        "!wget --no-check-certificate \\\n",
        "    https://storage.googleapis.com/laurencemoroney-blog.appspot.com/glove.6B.100d.txt \\\n",
        "    -O /tmp/glove.6B.100d.txt\n",
        "embeddings_index = {};\n",
        "with open('/tmp/glove.6B.100d.txt') as f:\n",
        "    for line in f:\n",
        "        values = line.split();\n",
        "        word = values[0];\n",
        "        coefs = np.asarray(values[1:], dtype='float32');\n",
        "        embeddings_index[word] = coefs;\n",
        "\n",
        "embeddings_matrix = np.zeros((vocab_size+1, embedding_dim));\n",
        "for word, i in word_index.items():\n",
        "    embedding_vector = embeddings_index.get(word);\n",
        "    if embedding_vector is not None:\n",
        "        embeddings_matrix[i] = embedding_vector;"
      ],
      "execution_count": 6,
      "outputs": [
        {
          "output_type": "stream",
          "text": [
            "--2020-11-22 00:05:48--  https://storage.googleapis.com/laurencemoroney-blog.appspot.com/glove.6B.100d.txt\n",
            "Resolving storage.googleapis.com (storage.googleapis.com)... 142.250.73.240, 172.217.13.240, 172.217.15.80, ...\n",
            "Connecting to storage.googleapis.com (storage.googleapis.com)|142.250.73.240|:443... connected.\n",
            "HTTP request sent, awaiting response... 200 OK\n",
            "Length: 347116733 (331M) [text/plain]\n",
            "Saving to: ‘/tmp/glove.6B.100d.txt’\n",
            "\n",
            "/tmp/glove.6B.100d. 100%[===================>] 331.04M   158MB/s    in 2.1s    \n",
            "\n",
            "2020-11-22 00:05:50 (158 MB/s) - ‘/tmp/glove.6B.100d.txt’ saved [347116733/347116733]\n",
            "\n"
          ],
          "name": "stdout"
        }
      ]
    },
    {
      "cell_type": "code",
      "metadata": {
        "colab": {
          "base_uri": "https://localhost:8080/"
        },
        "id": "71NLk_lpFLNt",
        "outputId": "86b5f5d4-4cbd-41a3-a942-a6495ff683aa"
      },
      "source": [
        "print(len(embeddings_matrix))\n",
        "# Expected Output\n",
        "# 138859"
      ],
      "execution_count": 7,
      "outputs": [
        {
          "output_type": "stream",
          "text": [
            "138107\n"
          ],
          "name": "stdout"
        }
      ]
    },
    {
      "cell_type": "code",
      "metadata": {
        "colab": {
          "base_uri": "https://localhost:8080/"
        },
        "id": "iKKvbuEBOGFz",
        "outputId": "936c41fb-11bc-4558-e0f7-305e93962e24"
      },
      "source": [
        "model = tf.keras.Sequential([\n",
        "    tf.keras.layers.Embedding(vocab_size+1, embedding_dim, input_length=max_length, weights=[embeddings_matrix], trainable=False),\n",
        "    tf.keras.layers.Dropout(0.2),\n",
        "    tf.keras.layers.Conv1D(64, 5, activation='relu'),\n",
        "    tf.keras.layers.MaxPooling1D(pool_size=4),\n",
        "    tf.keras.layers.LSTM(64),\n",
        "    tf.keras.layers.Dense(1, activation='sigmoid')\n",
        "])\n",
        "model.compile(loss='binary_crossentropy',optimizer='adam',metrics=['accuracy'])\n",
        "model.summary()\n",
        "\n",
        "num_epochs = 50\n",
        "\n",
        "training_padded = np.array(training_sequences)\n",
        "training_labels = np.array(training_labels)\n",
        "testing_padded = np.array(test_sequences)\n",
        "testing_labels = np.array(test_labels)\n",
        "\n",
        "history = model.fit(training_padded, training_labels, epochs=num_epochs, validation_data=(testing_padded, testing_labels), verbose=2)\n",
        "\n",
        "print(\"Training Complete\")"
      ],
      "execution_count": 8,
      "outputs": [
        {
          "output_type": "stream",
          "text": [
            "Model: \"sequential\"\n",
            "_________________________________________________________________\n",
            "Layer (type)                 Output Shape              Param #   \n",
            "=================================================================\n",
            "embedding (Embedding)        (None, 16, 100)           13810700  \n",
            "_________________________________________________________________\n",
            "dropout (Dropout)            (None, 16, 100)           0         \n",
            "_________________________________________________________________\n",
            "conv1d (Conv1D)              (None, 12, 64)            32064     \n",
            "_________________________________________________________________\n",
            "max_pooling1d (MaxPooling1D) (None, 3, 64)             0         \n",
            "_________________________________________________________________\n",
            "lstm (LSTM)                  (None, 64)                33024     \n",
            "_________________________________________________________________\n",
            "dense (Dense)                (None, 1)                 65        \n",
            "=================================================================\n",
            "Total params: 13,875,853\n",
            "Trainable params: 65,153\n",
            "Non-trainable params: 13,810,700\n",
            "_________________________________________________________________\n",
            "Epoch 1/50\n",
            "4500/4500 - 15s - loss: 0.5696 - accuracy: 0.6976 - val_loss: 0.5372 - val_accuracy: 0.7270\n",
            "Epoch 2/50\n",
            "4500/4500 - 14s - loss: 0.5296 - accuracy: 0.7290 - val_loss: 0.5247 - val_accuracy: 0.7324\n",
            "Epoch 3/50\n",
            "4500/4500 - 14s - loss: 0.5133 - accuracy: 0.7414 - val_loss: 0.5103 - val_accuracy: 0.7421\n",
            "Epoch 4/50\n",
            "4500/4500 - 14s - loss: 0.5028 - accuracy: 0.7494 - val_loss: 0.5029 - val_accuracy: 0.7543\n",
            "Epoch 5/50\n",
            "4500/4500 - 14s - loss: 0.4939 - accuracy: 0.7553 - val_loss: 0.5046 - val_accuracy: 0.7531\n",
            "Epoch 6/50\n",
            "4500/4500 - 14s - loss: 0.4867 - accuracy: 0.7597 - val_loss: 0.5041 - val_accuracy: 0.7503\n",
            "Epoch 7/50\n",
            "4500/4500 - 14s - loss: 0.4805 - accuracy: 0.7623 - val_loss: 0.5046 - val_accuracy: 0.7527\n",
            "Epoch 8/50\n",
            "4500/4500 - 14s - loss: 0.4770 - accuracy: 0.7666 - val_loss: 0.5040 - val_accuracy: 0.7520\n",
            "Epoch 9/50\n",
            "4500/4500 - 14s - loss: 0.4723 - accuracy: 0.7698 - val_loss: 0.5060 - val_accuracy: 0.7490\n",
            "Epoch 10/50\n",
            "4500/4500 - 14s - loss: 0.4668 - accuracy: 0.7722 - val_loss: 0.5102 - val_accuracy: 0.7487\n",
            "Epoch 11/50\n",
            "4500/4500 - 14s - loss: 0.4643 - accuracy: 0.7739 - val_loss: 0.5050 - val_accuracy: 0.7508\n",
            "Epoch 12/50\n",
            "4500/4500 - 14s - loss: 0.4622 - accuracy: 0.7751 - val_loss: 0.5056 - val_accuracy: 0.7479\n",
            "Epoch 13/50\n",
            "4500/4500 - 15s - loss: 0.4596 - accuracy: 0.7762 - val_loss: 0.5075 - val_accuracy: 0.7494\n",
            "Epoch 14/50\n",
            "4500/4500 - 14s - loss: 0.4570 - accuracy: 0.7785 - val_loss: 0.5073 - val_accuracy: 0.7511\n",
            "Epoch 15/50\n",
            "4500/4500 - 14s - loss: 0.4558 - accuracy: 0.7781 - val_loss: 0.5027 - val_accuracy: 0.7533\n",
            "Epoch 16/50\n",
            "4500/4500 - 15s - loss: 0.4532 - accuracy: 0.7811 - val_loss: 0.5056 - val_accuracy: 0.7503\n",
            "Epoch 17/50\n",
            "4500/4500 - 14s - loss: 0.4512 - accuracy: 0.7820 - val_loss: 0.5040 - val_accuracy: 0.7506\n",
            "Epoch 18/50\n",
            "4500/4500 - 14s - loss: 0.4487 - accuracy: 0.7845 - val_loss: 0.5101 - val_accuracy: 0.7482\n",
            "Epoch 19/50\n",
            "4500/4500 - 14s - loss: 0.4479 - accuracy: 0.7848 - val_loss: 0.5103 - val_accuracy: 0.7499\n",
            "Epoch 20/50\n",
            "4500/4500 - 14s - loss: 0.4483 - accuracy: 0.7830 - val_loss: 0.5173 - val_accuracy: 0.7465\n",
            "Epoch 21/50\n",
            "4500/4500 - 14s - loss: 0.4451 - accuracy: 0.7864 - val_loss: 0.5096 - val_accuracy: 0.7473\n",
            "Epoch 22/50\n",
            "4500/4500 - 15s - loss: 0.4434 - accuracy: 0.7871 - val_loss: 0.5134 - val_accuracy: 0.7498\n",
            "Epoch 23/50\n",
            "4500/4500 - 14s - loss: 0.4424 - accuracy: 0.7877 - val_loss: 0.5225 - val_accuracy: 0.7488\n",
            "Epoch 24/50\n",
            "4500/4500 - 14s - loss: 0.4418 - accuracy: 0.7883 - val_loss: 0.5167 - val_accuracy: 0.7473\n",
            "Epoch 25/50\n",
            "4500/4500 - 14s - loss: 0.4413 - accuracy: 0.7882 - val_loss: 0.5203 - val_accuracy: 0.7498\n",
            "Epoch 26/50\n",
            "4500/4500 - 14s - loss: 0.4404 - accuracy: 0.7887 - val_loss: 0.5186 - val_accuracy: 0.7489\n",
            "Epoch 27/50\n",
            "4500/4500 - 14s - loss: 0.4390 - accuracy: 0.7904 - val_loss: 0.5163 - val_accuracy: 0.7496\n",
            "Epoch 28/50\n",
            "4500/4500 - 14s - loss: 0.4387 - accuracy: 0.7893 - val_loss: 0.5186 - val_accuracy: 0.7484\n",
            "Epoch 29/50\n",
            "4500/4500 - 14s - loss: 0.4385 - accuracy: 0.7899 - val_loss: 0.5139 - val_accuracy: 0.7494\n",
            "Epoch 30/50\n",
            "4500/4500 - 14s - loss: 0.4379 - accuracy: 0.7909 - val_loss: 0.5162 - val_accuracy: 0.7501\n",
            "Epoch 31/50\n",
            "4500/4500 - 15s - loss: 0.4368 - accuracy: 0.7919 - val_loss: 0.5180 - val_accuracy: 0.7465\n",
            "Epoch 32/50\n",
            "4500/4500 - 14s - loss: 0.4363 - accuracy: 0.7910 - val_loss: 0.5187 - val_accuracy: 0.7468\n",
            "Epoch 33/50\n",
            "4500/4500 - 14s - loss: 0.4373 - accuracy: 0.7903 - val_loss: 0.5178 - val_accuracy: 0.7483\n",
            "Epoch 34/50\n",
            "4500/4500 - 14s - loss: 0.4359 - accuracy: 0.7919 - val_loss: 0.5118 - val_accuracy: 0.7517\n",
            "Epoch 35/50\n",
            "4500/4500 - 14s - loss: 0.4364 - accuracy: 0.7908 - val_loss: 0.5145 - val_accuracy: 0.7509\n",
            "Epoch 36/50\n",
            "4500/4500 - 14s - loss: 0.4353 - accuracy: 0.7929 - val_loss: 0.5222 - val_accuracy: 0.7491\n",
            "Epoch 37/50\n",
            "4500/4500 - 14s - loss: 0.4349 - accuracy: 0.7928 - val_loss: 0.5234 - val_accuracy: 0.7473\n",
            "Epoch 38/50\n",
            "4500/4500 - 15s - loss: 0.4321 - accuracy: 0.7941 - val_loss: 0.5217 - val_accuracy: 0.7506\n",
            "Epoch 39/50\n",
            "4500/4500 - 14s - loss: 0.4339 - accuracy: 0.7932 - val_loss: 0.5222 - val_accuracy: 0.7473\n",
            "Epoch 40/50\n",
            "4500/4500 - 14s - loss: 0.4332 - accuracy: 0.7936 - val_loss: 0.5220 - val_accuracy: 0.7492\n",
            "Epoch 41/50\n",
            "4500/4500 - 14s - loss: 0.4327 - accuracy: 0.7933 - val_loss: 0.5251 - val_accuracy: 0.7460\n",
            "Epoch 42/50\n",
            "4500/4500 - 14s - loss: 0.4329 - accuracy: 0.7925 - val_loss: 0.5260 - val_accuracy: 0.7458\n",
            "Epoch 43/50\n",
            "4500/4500 - 14s - loss: 0.4328 - accuracy: 0.7927 - val_loss: 0.5332 - val_accuracy: 0.7480\n",
            "Epoch 44/50\n",
            "4500/4500 - 14s - loss: 0.4310 - accuracy: 0.7944 - val_loss: 0.5260 - val_accuracy: 0.7499\n",
            "Epoch 45/50\n",
            "4500/4500 - 14s - loss: 0.4315 - accuracy: 0.7946 - val_loss: 0.5276 - val_accuracy: 0.7470\n",
            "Epoch 46/50\n",
            "4500/4500 - 14s - loss: 0.4319 - accuracy: 0.7939 - val_loss: 0.5244 - val_accuracy: 0.7476\n",
            "Epoch 47/50\n",
            "4500/4500 - 14s - loss: 0.4308 - accuracy: 0.7955 - val_loss: 0.5233 - val_accuracy: 0.7464\n",
            "Epoch 48/50\n",
            "4500/4500 - 14s - loss: 0.4309 - accuracy: 0.7953 - val_loss: 0.5203 - val_accuracy: 0.7507\n",
            "Epoch 49/50\n",
            "4500/4500 - 14s - loss: 0.4305 - accuracy: 0.7956 - val_loss: 0.5255 - val_accuracy: 0.7460\n",
            "Epoch 50/50\n",
            "4500/4500 - 14s - loss: 0.4309 - accuracy: 0.7952 - val_loss: 0.5223 - val_accuracy: 0.7449\n",
            "Training Complete\n"
          ],
          "name": "stdout"
        }
      ]
    },
    {
      "cell_type": "code",
      "metadata": {
        "colab": {
          "base_uri": "https://localhost:8080/",
          "height": 608
        },
        "id": "qxju4ItJKO8F",
        "outputId": "d670b736-91e7-4498-c2db-44826feda079"
      },
      "source": [
        "import matplotlib.image  as mpimg\n",
        "import matplotlib.pyplot as plt\n",
        "\n",
        "#-----------------------------------------------------------\n",
        "# Retrieve a list of list results on training and test data\n",
        "# sets for each training epoch\n",
        "#-----------------------------------------------------------\n",
        "acc=history.history['accuracy']\n",
        "val_acc=history.history['val_accuracy']\n",
        "loss=history.history['loss']\n",
        "val_loss=history.history['val_loss']\n",
        "\n",
        "epochs=range(len(acc)) # Get number of epochs\n",
        "\n",
        "#------------------------------------------------\n",
        "# Plot training and validation accuracy per epoch\n",
        "#------------------------------------------------\n",
        "plt.plot(epochs, acc, 'r')\n",
        "plt.plot(epochs, val_acc, 'b')\n",
        "plt.title('Training and validation accuracy')\n",
        "plt.xlabel(\"Epochs\")\n",
        "plt.ylabel(\"Accuracy\")\n",
        "plt.legend([\"Accuracy\", \"Validation Accuracy\"])\n",
        "\n",
        "plt.figure()\n",
        "\n",
        "#------------------------------------------------\n",
        "# Plot training and validation loss per epoch\n",
        "#------------------------------------------------\n",
        "plt.plot(epochs, loss, 'r')\n",
        "plt.plot(epochs, val_loss, 'b')\n",
        "plt.title('Training and validation loss')\n",
        "plt.xlabel(\"Epochs\")\n",
        "plt.ylabel(\"Loss\")\n",
        "plt.legend([\"Loss\", \"Validation Loss\"])\n",
        "\n",
        "plt.figure()\n",
        "\n",
        "\n",
        "# Expected Output\n",
        "# A chart where the validation loss does not increase sharply!"
      ],
      "execution_count": 9,
      "outputs": [
        {
          "output_type": "execute_result",
          "data": {
            "text/plain": [
              "<Figure size 432x288 with 0 Axes>"
            ]
          },
          "metadata": {
            "tags": []
          },
          "execution_count": 9
        },
        {
          "output_type": "display_data",
          "data": {
            "image/png": "[encoded data removed]",
            "text/plain": [
              "<Figure size 432x288 with 1 Axes>"
            ]
          },
          "metadata": {
            "tags": [],
            "needs_background": "light"
          }
        },
        {
          "output_type": "display_data",
          "data": {
            "image/png": "[encoded data removed]",
            "text/plain": [
              "<Figure size 432x288 with 1 Axes>"
            ]
          },
          "metadata": {
            "tags": [],
            "needs_background": "light"
          }
        },
        {
          "output_type": "display_data",
          "data": {
            "text/plain": [
              "<Figure size 432x288 with 0 Axes>"
            ]
          },
          "metadata": {
            "tags": []
          }
        }
      ]
    },
    {
      "cell_type": "code",
      "metadata": {
        "id": "ghnYNpVDRS86"
      },
      "source": [
        ""
      ],
      "execution_count": 9,
      "outputs": []
    }
  ]
}