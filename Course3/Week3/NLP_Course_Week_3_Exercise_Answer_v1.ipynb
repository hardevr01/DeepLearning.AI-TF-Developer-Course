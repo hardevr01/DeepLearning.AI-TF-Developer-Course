{
  "nbformat": 4,
  "nbformat_minor": 0,
  "metadata": {
    "colab": {
      "name": "NLP Course - Week 3 Exercise Answer_v1.ipynb",
      "provenance": [],
      "collapsed_sections": []
    },
    "kernelspec": {
      "name": "python3",
      "display_name": "Python 3"
    },
    "accelerator": "GPU"
  },
  "cells": [
    {
      "cell_type": "code",
      "metadata": {
        "id": "fKgXz2XC8syI"
      },
      "source": [
        "import json\n",
        "import tensorflow as tf\n",
        "import csv\n",
        "import random\n",
        "import numpy as np\n",
        "\n",
        "\n",
        "from tensorflow.keras.preprocessing.text import Tokenizer\n",
        "from tensorflow.keras.preprocessing.sequence import pad_sequences\n",
        "from tensorflow.keras.utils import to_categorical\n",
        "from tensorflow.keras import regularizers\n",
        "\n",
        "embedding_dim = 100\n",
        "max_length = 16\n",
        "trunc_type = 'post'\n",
        "padding_type='post'\n",
        "oov_tok = \"<OOV>\"\n",
        "training_size = 160000\n",
        "test_portion = 0.1\n",
        "corpus = []"
      ],
      "execution_count": 1,
      "outputs": []
    },
    {
      "cell_type": "code",
      "metadata": {
        "colab": {
          "base_uri": "https://localhost:8080/"
        },
        "id": "bbQM4ilJ8wfG",
        "outputId": "adbea2e7-3e97-47a6-8aec-b907e063effd"
      },
      "source": [
        "!wget --no-check-certificate \\\n",
        "    https://storage.googleapis.com/laurencemoroney-blog.appspot.com/training_cleaned.csv \\\n",
        "    -O /tmp/training_cleaned.csv"
      ],
      "execution_count": 2,
      "outputs": [
        {
          "output_type": "stream",
          "text": [
            "--2020-11-21 23:35:44--  https://storage.googleapis.com/laurencemoroney-blog.appspot.com/training_cleaned.csv\n",
            "Resolving storage.googleapis.com (storage.googleapis.com)... 172.217.12.240, 172.217.164.176, 172.217.2.112, ...\n",
            "Connecting to storage.googleapis.com (storage.googleapis.com)|172.217.12.240|:443... connected.\n",
            "HTTP request sent, awaiting response... 200 OK\n",
            "Length: 238942690 (228M) [application/octet-stream]\n",
            "Saving to: ‘/tmp/training_cleaned.csv’\n",
            "\n",
            "/tmp/training_clean 100%[===================>] 227.87M   133MB/s    in 1.7s    \n",
            "\n",
            "2020-11-21 23:35:46 (133 MB/s) - ‘/tmp/training_cleaned.csv’ saved [238942690/238942690]\n",
            "\n"
          ],
          "name": "stdout"
        }
      ]
    },
    {
      "cell_type": "code",
      "metadata": {
        "id": "rYUS0H8i8wid"
      },
      "source": [
        ""
      ],
      "execution_count": 2,
      "outputs": []
    },
    {
      "cell_type": "code",
      "metadata": {
        "id": "thXt_d1Z9TUI"
      },
      "source": [
        "num_sentences = 0\n",
        "\n",
        "\n",
        "with open('/tmp/training_cleaned.csv') as csvfile : \n",
        "  reader = csv.reader(csvfile, delimiter = ',')\n",
        "  for row in reader : \n",
        "    list_item = []\n",
        "    list_item.append(row[5])\n",
        "    this_label = []\n",
        "    if this_label == '0' :\n",
        "      list_item.append(0)\n",
        "    else : \n",
        "      list_item.append(1)\n",
        "\n",
        "    num_sentences += 1\n",
        "    corpus.append(list_item)\n"
      ],
      "execution_count": 3,
      "outputs": []
    },
    {
      "cell_type": "code",
      "metadata": {
        "colab": {
          "base_uri": "https://localhost:8080/"
        },
        "id": "r5EMOrEX9TXw",
        "outputId": "47780f8c-a12d-4532-8dc2-fa8c9388f719"
      },
      "source": [
        "print(num_sentences)\n",
        "print(len(corpus))\n",
        "print(corpus[1])"
      ],
      "execution_count": 4,
      "outputs": [
        {
          "output_type": "stream",
          "text": [
            "1600000\n",
            "1600000\n",
            "[\"is upset that he can't update his Facebook by texting it... and might cry as a result  School today also. Blah!\", 1]\n"
          ],
          "name": "stdout"
        }
      ]
    },
    {
      "cell_type": "code",
      "metadata": {
        "colab": {
          "base_uri": "https://localhost:8080/"
        },
        "id": "gIZL9rSaFpHt",
        "outputId": "bfcf0e9d-0038-4c0f-e73e-9cd9cbd25bf1"
      },
      "source": [
        "corpus[1]"
      ],
      "execution_count": 5,
      "outputs": [
        {
          "output_type": "execute_result",
          "data": {
            "text/plain": [
              "[\"is upset that he can't update his Facebook by texting it... and might cry as a result  School today also. Blah!\",\n",
              " 1]"
            ]
          },
          "metadata": {
            "tags": []
          },
          "execution_count": 5
        }
      ]
    },
    {
      "cell_type": "code",
      "metadata": {
        "id": "KYkpC1mSFpK8"
      },
      "source": [
        ""
      ],
      "execution_count": 5,
      "outputs": []
    },
    {
      "cell_type": "code",
      "metadata": {
        "id": "ceD81nd_9Ta-"
      },
      "source": [
        ""
      ],
      "execution_count": 5,
      "outputs": []
    },
    {
      "cell_type": "code",
      "metadata": {
        "id": "Np_WHGSqEctH"
      },
      "source": [
        "sentences = []\n",
        "labels = []\n",
        "random.shuffle(corpus)\n",
        "\n",
        "for x in range(training_size):\n",
        "  sentences.append(corpus[x][0])\n",
        "  labels.append(corpus[x][1])"
      ],
      "execution_count": 6,
      "outputs": []
    },
    {
      "cell_type": "code",
      "metadata": {
        "id": "wMZVfyEKEcwS"
      },
      "source": [
        "tokenizer = Tokenizer()\n",
        "\n",
        "tokenizer.fit_on_texts(sentences)\n",
        "\n",
        "word_index = tokenizer.word_index\n",
        "\n",
        "vocab_size = len(word_index)\n",
        "\n",
        "sequences = tokenizer.texts_to_sequences(sentences)\n",
        "padded = pad_sequences(sequences, maxlen=max_length, padding=padding_type, truncating=trunc_type)\n",
        "\n",
        "split = int(test_portion * training_size)\n",
        "\n",
        "test_sequences = padded[0:split]\n",
        "training_sequences = padded[split:training_size]\n",
        "\n",
        "test_labels = labels[0:split]\n",
        "training_labels = labels[split:training_size]"
      ],
      "execution_count": 7,
      "outputs": []
    },
    {
      "cell_type": "code",
      "metadata": {
        "colab": {
          "base_uri": "https://localhost:8080/"
        },
        "id": "QFaZcMJFEczJ",
        "outputId": "db11effa-176c-4a3c-a631-0f095b51c959"
      },
      "source": [
        "print(vocab_size)\n",
        "\n",
        "print(word_index['i'])"
      ],
      "execution_count": 8,
      "outputs": [
        {
          "output_type": "stream",
          "text": [
            "138148\n",
            "1\n"
          ],
          "name": "stdout"
        }
      ]
    },
    {
      "cell_type": "code",
      "metadata": {
        "colab": {
          "base_uri": "https://localhost:8080/"
        },
        "id": "-0SAQre08wkl",
        "outputId": "4d359c24-cf27-4bc1-b657-1d6d0f154400"
      },
      "source": [
        "!wget --no-check-certificate \\\n",
        "    https://storage.googleapis.com/laurencemoroney-blog.appspot.com/glove.6B.100d.txt \\\n",
        "    -O /tmp/glove.6B.100d.txt\n",
        "\n",
        "embeddings_index = {};\n",
        "\n",
        "with open('/tmp/glove.6B.100d.txt') as f : \n",
        "  for line in f :\n",
        "    values = line.split()\n",
        "    word = values[0]\n",
        "    coefs = np.asarray(values[1:], dtype='float32')\n",
        "    embeddings_index[word] = coefs\n",
        "\n",
        "\n",
        "embeddings_matrix = np.zeros((vocab_size+1, embedding_dim))\n",
        "\n",
        "for word, i in word_index.items()  :\n",
        "  embedding_vector = embeddings_index.get(word)\n",
        "  if embedding_vector is not None : \n",
        "    embeddings_matrix[i] = embedding_vector\n"
      ],
      "execution_count": 9,
      "outputs": [
        {
          "output_type": "stream",
          "text": [
            "--2020-11-21 23:35:58--  https://storage.googleapis.com/laurencemoroney-blog.appspot.com/glove.6B.100d.txt\n",
            "Resolving storage.googleapis.com (storage.googleapis.com)... 172.253.63.128, 172.217.164.176, 172.217.15.112, ...\n",
            "Connecting to storage.googleapis.com (storage.googleapis.com)|172.253.63.128|:443... connected.\n",
            "HTTP request sent, awaiting response... 200 OK\n",
            "Length: 347116733 (331M) [text/plain]\n",
            "Saving to: ‘/tmp/glove.6B.100d.txt’\n",
            "\n",
            "/tmp/glove.6B.100d. 100%[===================>] 331.04M   171MB/s    in 1.9s    \n",
            "\n",
            "2020-11-21 23:36:00 (171 MB/s) - ‘/tmp/glove.6B.100d.txt’ saved [347116733/347116733]\n",
            "\n"
          ],
          "name": "stdout"
        }
      ]
    },
    {
      "cell_type": "code",
      "metadata": {
        "colab": {
          "base_uri": "https://localhost:8080/"
        },
        "id": "QSP5N9lG8wnf",
        "outputId": "bfee8393-e8ed-4dd4-d910-3684b54fc677"
      },
      "source": [
        "print(len(embeddings_matrix))"
      ],
      "execution_count": 10,
      "outputs": [
        {
          "output_type": "stream",
          "text": [
            "138149\n"
          ],
          "name": "stdout"
        }
      ]
    },
    {
      "cell_type": "code",
      "metadata": {
        "id": "_kKva6bCH5mb"
      },
      "source": [
        ""
      ],
      "execution_count": 10,
      "outputs": []
    },
    {
      "cell_type": "code",
      "metadata": {
        "colab": {
          "base_uri": "https://localhost:8080/"
        },
        "id": "L-0M0H8VIY9r",
        "outputId": "2d675dd9-57b7-4d01-a088-40e54b1a58aa"
      },
      "source": [
        "model =  tf.keras.Sequential([tf.keras.layers.Embedding(vocab_size+1, embedding_dim, input_length=max_length, weights=[embeddings_matrix], trainable=False),\n",
        "                              tf.keras.layers.Dropout(0.2),\n",
        "                              tf.keras.layers.Conv1D(64, 5, activation='relu'),\n",
        "                              tf.keras.layers.MaxPooling1D(pool_size=4),\n",
        "                              tf.keras.layers.LSTM(64),\n",
        "                              tf.keras.layers.Dense(1, activation='sigmoid') ])\n",
        "\n",
        "model.compile(loss = 'binary_crossentropy',\n",
        "              optimizer='adam',\n",
        "              metrics=['accuracy'])\n",
        "\n",
        "model.summary()"
      ],
      "execution_count": 15,
      "outputs": [
        {
          "output_type": "stream",
          "text": [
            "Model: \"sequential_1\"\n",
            "_________________________________________________________________\n",
            "Layer (type)                 Output Shape              Param #   \n",
            "=================================================================\n",
            "embedding_1 (Embedding)      (None, 16, 100)           13814900  \n",
            "_________________________________________________________________\n",
            "dropout_1 (Dropout)          (None, 16, 100)           0         \n",
            "_________________________________________________________________\n",
            "conv1d_1 (Conv1D)            (None, 12, 64)            32064     \n",
            "_________________________________________________________________\n",
            "max_pooling1d_1 (MaxPooling1 (None, 3, 64)             0         \n",
            "_________________________________________________________________\n",
            "lstm_1 (LSTM)                (None, 64)                33024     \n",
            "_________________________________________________________________\n",
            "dense_1 (Dense)              (None, 1)                 65        \n",
            "=================================================================\n",
            "Total params: 13,880,053\n",
            "Trainable params: 65,153\n",
            "Non-trainable params: 13,814,900\n",
            "_________________________________________________________________\n"
          ],
          "name": "stdout"
        }
      ]
    },
    {
      "cell_type": "code",
      "metadata": {
        "colab": {
          "base_uri": "https://localhost:8080/"
        },
        "id": "n_teOGDBIZAR",
        "outputId": "a448c05d-ffd0-4b24-92dc-35389640fbee"
      },
      "source": [
        "num_epochs = 50\n",
        "\n",
        "training_padded = np.array(training_sequences)\n",
        "training_labels = np.array(training_labels)\n",
        "\n",
        "testing_padded = np.array(test_sequences)\n",
        "testing_labels = np.array(test_labels)\n",
        "\n",
        "\n",
        "history = model.fit(training_padded, \n",
        "                    training_labels,\n",
        "                    epochs = num_epochs,\n",
        "                    validation_data = (testing_padded, testing_labels),\n",
        "                    verbose=2)\n",
        "\n",
        "\n",
        "print(\"Training Complete\")"
      ],
      "execution_count": 16,
      "outputs": [
        {
          "output_type": "stream",
          "text": [
            "Epoch 1/50\n",
            "4500/4500 - 16s - loss: 0.0010 - accuracy: 0.9998 - val_loss: 1.6678e-06 - val_accuracy: 1.0000\n",
            "Epoch 2/50\n",
            "4500/4500 - 16s - loss: 6.5359e-07 - accuracy: 1.0000 - val_loss: 2.0201e-07 - val_accuracy: 1.0000\n",
            "Epoch 3/50\n",
            "4500/4500 - 15s - loss: 8.2413e-08 - accuracy: 1.0000 - val_loss: 2.8504e-08 - val_accuracy: 1.0000\n",
            "Epoch 4/50\n",
            "4500/4500 - 16s - loss: 2.1096e-08 - accuracy: 1.0000 - val_loss: 1.5444e-08 - val_accuracy: 1.0000\n",
            "Epoch 5/50\n",
            "4500/4500 - 16s - loss: 1.0879e-08 - accuracy: 1.0000 - val_loss: 7.6796e-09 - val_accuracy: 1.0000\n",
            "Epoch 6/50\n",
            "4500/4500 - 16s - loss: 5.8086e-09 - accuracy: 1.0000 - val_loss: 4.5652e-09 - val_accuracy: 1.0000\n",
            "Epoch 7/50\n",
            "4500/4500 - 16s - loss: 3.5349e-09 - accuracy: 1.0000 - val_loss: 2.7650e-09 - val_accuracy: 1.0000\n",
            "Epoch 8/50\n",
            "4500/4500 - 15s - loss: 2.6220e-09 - accuracy: 1.0000 - val_loss: 2.6413e-09 - val_accuracy: 1.0000\n",
            "Epoch 9/50\n",
            "4500/4500 - 15s - loss: 2.6157e-09 - accuracy: 1.0000 - val_loss: 2.6413e-09 - val_accuracy: 1.0000\n",
            "Epoch 10/50\n",
            "4500/4500 - 15s - loss: 2.6158e-09 - accuracy: 1.0000 - val_loss: 2.6413e-09 - val_accuracy: 1.0000\n",
            "Epoch 11/50\n",
            "4500/4500 - 16s - loss: 2.6155e-09 - accuracy: 1.0000 - val_loss: 2.6413e-09 - val_accuracy: 1.0000\n",
            "Epoch 12/50\n",
            "4500/4500 - 16s - loss: 2.6157e-09 - accuracy: 1.0000 - val_loss: 2.6413e-09 - val_accuracy: 1.0000\n",
            "Epoch 13/50\n",
            "4500/4500 - 15s - loss: 2.6156e-09 - accuracy: 1.0000 - val_loss: 2.6413e-09 - val_accuracy: 1.0000\n",
            "Epoch 14/50\n",
            "4500/4500 - 15s - loss: 2.6159e-09 - accuracy: 1.0000 - val_loss: 2.6413e-09 - val_accuracy: 1.0000\n",
            "Epoch 15/50\n",
            "4500/4500 - 15s - loss: 2.6156e-09 - accuracy: 1.0000 - val_loss: 2.6413e-09 - val_accuracy: 1.0000\n",
            "Epoch 16/50\n",
            "4500/4500 - 15s - loss: 2.6160e-09 - accuracy: 1.0000 - val_loss: 2.6413e-09 - val_accuracy: 1.0000\n",
            "Epoch 17/50\n",
            "4500/4500 - 14s - loss: 2.6154e-09 - accuracy: 1.0000 - val_loss: 2.6413e-09 - val_accuracy: 1.0000\n",
            "Epoch 18/50\n",
            "4500/4500 - 14s - loss: 2.6153e-09 - accuracy: 1.0000 - val_loss: 2.6413e-09 - val_accuracy: 1.0000\n",
            "Epoch 19/50\n",
            "4500/4500 - 14s - loss: 2.6158e-09 - accuracy: 1.0000 - val_loss: 2.6413e-09 - val_accuracy: 1.0000\n",
            "Epoch 20/50\n",
            "4500/4500 - 15s - loss: 2.6158e-09 - accuracy: 1.0000 - val_loss: 2.6413e-09 - val_accuracy: 1.0000\n",
            "Epoch 21/50\n",
            "4500/4500 - 15s - loss: 2.6160e-09 - accuracy: 1.0000 - val_loss: 2.6413e-09 - val_accuracy: 1.0000\n",
            "Epoch 22/50\n",
            "4500/4500 - 15s - loss: 2.6160e-09 - accuracy: 1.0000 - val_loss: 2.6413e-09 - val_accuracy: 1.0000\n",
            "Epoch 23/50\n",
            "4500/4500 - 15s - loss: 2.6159e-09 - accuracy: 1.0000 - val_loss: 2.6413e-09 - val_accuracy: 1.0000\n",
            "Epoch 24/50\n",
            "4500/4500 - 15s - loss: 2.6157e-09 - accuracy: 1.0000 - val_loss: 2.6413e-09 - val_accuracy: 1.0000\n",
            "Epoch 25/50\n",
            "4500/4500 - 15s - loss: 2.6157e-09 - accuracy: 1.0000 - val_loss: 2.6413e-09 - val_accuracy: 1.0000\n",
            "Epoch 26/50\n",
            "4500/4500 - 14s - loss: 2.6159e-09 - accuracy: 1.0000 - val_loss: 2.6413e-09 - val_accuracy: 1.0000\n",
            "Epoch 27/50\n",
            "4500/4500 - 14s - loss: 2.6156e-09 - accuracy: 1.0000 - val_loss: 2.6413e-09 - val_accuracy: 1.0000\n",
            "Epoch 28/50\n",
            "4500/4500 - 14s - loss: 2.6158e-09 - accuracy: 1.0000 - val_loss: 2.6413e-09 - val_accuracy: 1.0000\n",
            "Epoch 29/50\n",
            "4500/4500 - 14s - loss: 2.6159e-09 - accuracy: 1.0000 - val_loss: 2.6413e-09 - val_accuracy: 1.0000\n",
            "Epoch 30/50\n",
            "4500/4500 - 14s - loss: 2.6156e-09 - accuracy: 1.0000 - val_loss: 2.6413e-09 - val_accuracy: 1.0000\n",
            "Epoch 31/50\n",
            "4500/4500 - 15s - loss: 2.6156e-09 - accuracy: 1.0000 - val_loss: 2.6413e-09 - val_accuracy: 1.0000\n",
            "Epoch 32/50\n",
            "4500/4500 - 14s - loss: 2.6156e-09 - accuracy: 1.0000 - val_loss: 2.6413e-09 - val_accuracy: 1.0000\n",
            "Epoch 33/50\n",
            "4500/4500 - 14s - loss: 2.6156e-09 - accuracy: 1.0000 - val_loss: 2.6413e-09 - val_accuracy: 1.0000\n",
            "Epoch 34/50\n",
            "4500/4500 - 14s - loss: 2.6158e-09 - accuracy: 1.0000 - val_loss: 2.6413e-09 - val_accuracy: 1.0000\n",
            "Epoch 35/50\n",
            "4500/4500 - 14s - loss: 2.6157e-09 - accuracy: 1.0000 - val_loss: 2.6413e-09 - val_accuracy: 1.0000\n",
            "Epoch 36/50\n",
            "4500/4500 - 14s - loss: 2.6157e-09 - accuracy: 1.0000 - val_loss: 2.6413e-09 - val_accuracy: 1.0000\n",
            "Epoch 37/50\n",
            "4500/4500 - 14s - loss: 2.6159e-09 - accuracy: 1.0000 - val_loss: 2.6413e-09 - val_accuracy: 1.0000\n",
            "Epoch 38/50\n",
            "4500/4500 - 14s - loss: 2.6160e-09 - accuracy: 1.0000 - val_loss: 2.6413e-09 - val_accuracy: 1.0000\n",
            "Epoch 39/50\n",
            "4500/4500 - 14s - loss: 2.6156e-09 - accuracy: 1.0000 - val_loss: 2.6413e-09 - val_accuracy: 1.0000\n",
            "Epoch 40/50\n",
            "4500/4500 - 15s - loss: 2.6158e-09 - accuracy: 1.0000 - val_loss: 2.6413e-09 - val_accuracy: 1.0000\n",
            "Epoch 41/50\n",
            "4500/4500 - 15s - loss: 2.6160e-09 - accuracy: 1.0000 - val_loss: 2.6413e-09 - val_accuracy: 1.0000\n",
            "Epoch 42/50\n",
            "4500/4500 - 14s - loss: 2.6159e-09 - accuracy: 1.0000 - val_loss: 2.6413e-09 - val_accuracy: 1.0000\n",
            "Epoch 43/50\n",
            "4500/4500 - 14s - loss: 2.6158e-09 - accuracy: 1.0000 - val_loss: 2.6413e-09 - val_accuracy: 1.0000\n",
            "Epoch 44/50\n",
            "4500/4500 - 15s - loss: 2.6155e-09 - accuracy: 1.0000 - val_loss: 2.6413e-09 - val_accuracy: 1.0000\n",
            "Epoch 45/50\n",
            "4500/4500 - 15s - loss: 2.6156e-09 - accuracy: 1.0000 - val_loss: 2.6413e-09 - val_accuracy: 1.0000\n",
            "Epoch 46/50\n",
            "4500/4500 - 14s - loss: 2.6156e-09 - accuracy: 1.0000 - val_loss: 2.6413e-09 - val_accuracy: 1.0000\n",
            "Epoch 47/50\n",
            "4500/4500 - 14s - loss: 2.6154e-09 - accuracy: 1.0000 - val_loss: 2.6413e-09 - val_accuracy: 1.0000\n",
            "Epoch 48/50\n",
            "4500/4500 - 14s - loss: 2.6156e-09 - accuracy: 1.0000 - val_loss: 2.6413e-09 - val_accuracy: 1.0000\n",
            "Epoch 49/50\n",
            "4500/4500 - 14s - loss: 2.6160e-09 - accuracy: 1.0000 - val_loss: 2.6413e-09 - val_accuracy: 1.0000\n",
            "Epoch 50/50\n",
            "4500/4500 - 14s - loss: 2.6158e-09 - accuracy: 1.0000 - val_loss: 2.6413e-09 - val_accuracy: 1.0000\n",
            "Training Complete\n"
          ],
          "name": "stdout"
        }
      ]
    },
    {
      "cell_type": "code",
      "metadata": {
        "id": "NjeLAmBWIZDw"
      },
      "source": [
        ""
      ],
      "execution_count": 12,
      "outputs": []
    },
    {
      "cell_type": "code",
      "metadata": {
        "id": "wl6_2aH-Qibh"
      },
      "source": [
        ""
      ],
      "execution_count": null,
      "outputs": []
    },
    {
      "cell_type": "code",
      "metadata": {
        "colab": {
          "base_uri": "https://localhost:8080/",
          "height": 608
        },
        "id": "Xd0xWS-3KPeX",
        "outputId": "6593ac3d-d6d0-415f-b2b1-a971867af561"
      },
      "source": [
        "import matplotlib.image as mpimg\n",
        "import matplotlib.pyplot as plt\n",
        "\n",
        "acc = history.history['accuracy']\n",
        "val_acc = history.history['val_accuracy']\n",
        "\n",
        "loss = history.history['loss']\n",
        "val_loss = history.history['val_loss']\n",
        "\n",
        "epochs = range(len(acc))\n",
        "\n",
        "plt.plot(epochs, acc, 'r')\n",
        "plt.plot(epochs, val_acc, 'b')\n",
        "plt.title(\"Training and Validation Accuarcy\")\n",
        "plt.xlabel('Epochs')\n",
        "plt.ylabel('Accuarcy')\n",
        "plt.legend([\"Accuarcy\", \"Validation Accuarcy\"])\n",
        "\n",
        "plt.figure()\n",
        "\n",
        "\n",
        "plt.plot(epochs, loss, 'r')\n",
        "plt.plot(epochs, val_loss, 'b')\n",
        "plt.title(\"Training and Validation Loss\")\n",
        "plt.xlabel('Epochs')\n",
        "plt.ylabel('Accuarcy')\n",
        "plt.legend([\"Accuarcy\", \"Validation Loss\"])\n",
        "\n",
        "plt.figure()  "
      ],
      "execution_count": 17,
      "outputs": [
        {
          "output_type": "execute_result",
          "data": {
            "text/plain": [
              "<Figure size 432x288 with 0 Axes>"
            ]
          },
          "metadata": {
            "tags": []
          },
          "execution_count": 17
        },
        {
          "output_type": "display_data",
          "data": {
            "image/png": "[encoded data removed]",
            "text/plain": [
              "<Figure size 432x288 with 1 Axes>"
            ]
          },
          "metadata": {
            "tags": [],
            "needs_background": "light"
          }
        },
        {
          "output_type": "display_data",
          "data": {
            "image/png": "[encoded data removed]",
            "text/plain": [
              "<Figure size 432x288 with 1 Axes>"
            ]
          },
          "metadata": {
            "tags": [],
            "needs_background": "light"
          }
        },
        {
          "output_type": "display_data",
          "data": {
            "text/plain": [
              "<Figure size 432x288 with 0 Axes>"
            ]
          },
          "metadata": {
            "tags": []
          }
        }
      ]
    },
    {
      "cell_type": "code",
      "metadata": {
        "id": "v0XMIB12KPhJ"
      },
      "source": [
        ""
      ],
      "execution_count": null,
      "outputs": []
    },
    {
      "cell_type": "code",
      "metadata": {
        "id": "xgR9CkMNKPkO"
      },
      "source": [
        ""
      ],
      "execution_count": null,
      "outputs": []
    },
    {
      "cell_type": "code",
      "metadata": {
        "id": "CsWjLgEKKPnS"
      },
      "source": [
        ""
      ],
      "execution_count": null,
      "outputs": []
    },
    {
      "cell_type": "code",
      "metadata": {
        "id": "eONXQpFfKPqB"
      },
      "source": [
        ""
      ],
      "execution_count": null,
      "outputs": []
    },
    {
      "cell_type": "code",
      "metadata": {
        "id": "oTHal_3RKPtV"
      },
      "source": [
        ""
      ],
      "execution_count": null,
      "outputs": []
    }
  ]
}